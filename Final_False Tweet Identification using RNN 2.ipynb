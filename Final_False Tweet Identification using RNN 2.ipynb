{
 "cells": [
  {
   "cell_type": "markdown",
   "id": "595e8778",
   "metadata": {},
   "source": [
    "## Importing Libraries"
   ]
  },
  {
   "cell_type": "code",
   "execution_count": 1,
   "id": "c1e42a3b",
   "metadata": {},
   "outputs": [],
   "source": [
    "import pandas as pd\n",
    "import sklearn\n",
    "import matplotlib.pyplot as plt\n",
    "import numpy as np\n",
    "import os"
   ]
  },
  {
   "cell_type": "code",
   "execution_count": 2,
   "id": "bb9858ec",
   "metadata": {},
   "outputs": [],
   "source": [
    "import tensorflow as tf\n",
    "# from tf import keras\n",
    "\n",
    "import keras\n",
    "import visualkeras\n",
    "from keras import Sequential\n",
    "from keras.layers import Dropout , Dense, Flatten, Conv2D, MaxPool2D, BatchNormalization, Embedding, Bidirectional,LSTM, GRU\n",
    "\n",
    "\n",
    "from tensorflow.keras.optimizers import RMSprop, Adam, SGD, Adadelta\n",
    "from tensorflow.python.keras.preprocessing.text import Tokenizer\n",
    "from tensorflow.python.keras.preprocessing.sequence import pad_sequences"
   ]
  },
  {
   "cell_type": "code",
   "execution_count": 3,
   "id": "a447b0e0",
   "metadata": {},
   "outputs": [],
   "source": [
    "import nltk\n",
    "from nltk.tokenize import word_tokenize\n",
    "from nltk.stem import WordNetLemmatizer, PorterStemmer\n",
    "\n",
    "import string\n",
    "from string import digits\n",
    "import itertools\n",
    "import collections"
   ]
  },
  {
   "cell_type": "code",
   "execution_count": 4,
   "id": "3952f34b",
   "metadata": {},
   "outputs": [
    {
     "name": "stderr",
     "output_type": "stream",
     "text": [
      "[nltk_data] Downloading package stopwords to\n",
      "[nltk_data]     C:\\Users\\mphib\\AppData\\Roaming\\nltk_data...\n",
      "[nltk_data]   Package stopwords is already up-to-date!\n"
     ]
    },
    {
     "data": {
      "text/plain": [
       "True"
      ]
     },
     "execution_count": 4,
     "metadata": {},
     "output_type": "execute_result"
    }
   ],
   "source": [
    "nltk.download('stopwords')"
   ]
  },
  {
   "cell_type": "code",
   "execution_count": 5,
   "id": "1ee8a3de",
   "metadata": {},
   "outputs": [
    {
     "name": "stderr",
     "output_type": "stream",
     "text": [
      "[nltk_data] Downloading package punkt to\n",
      "[nltk_data]     C:\\Users\\mphib\\AppData\\Roaming\\nltk_data...\n",
      "[nltk_data]   Package punkt is already up-to-date!\n"
     ]
    },
    {
     "data": {
      "text/plain": [
       "True"
      ]
     },
     "execution_count": 5,
     "metadata": {},
     "output_type": "execute_result"
    }
   ],
   "source": [
    "nltk.download('punkt')"
   ]
  },
  {
   "cell_type": "code",
   "execution_count": 6,
   "id": "455bc873",
   "metadata": {},
   "outputs": [
    {
     "name": "stderr",
     "output_type": "stream",
     "text": [
      "[nltk_data] Downloading package wordnet to\n",
      "[nltk_data]     C:\\Users\\mphib\\AppData\\Roaming\\nltk_data...\n",
      "[nltk_data]   Package wordnet is already up-to-date!\n"
     ]
    },
    {
     "data": {
      "text/plain": [
       "True"
      ]
     },
     "execution_count": 6,
     "metadata": {},
     "output_type": "execute_result"
    }
   ],
   "source": [
    "nltk.download('wordnet')"
   ]
  },
  {
   "cell_type": "markdown",
   "id": "c1a3c96a",
   "metadata": {},
   "source": [
    "## Importing Dataset"
   ]
  },
  {
   "cell_type": "code",
   "execution_count": 7,
   "id": "9c81915a",
   "metadata": {},
   "outputs": [],
   "source": [
    "train = pd.read_csv(\"train.csv\")\n",
    "test = pd.read_csv(\"test.csv\")"
   ]
  },
  {
   "cell_type": "markdown",
   "id": "c51b43ad",
   "metadata": {},
   "source": [
    "## About the Data"
   ]
  },
  {
   "cell_type": "markdown",
   "id": "5f55f67e",
   "metadata": {},
   "source": [
    "Twitter has become a perfect platform for the global population to report any accident or disaster. However, there are also a large number of tweets that are simply bot generated or for advertisment purposes. Therefore, to differentiate between the actual and hoax, it has become impertive for the various disaster response agencies to monitor the feed while cleaning out the incorrect tweets from the actual ones to generate the subsequent response. The following dataset has been taken from kaggle to correctly identify the two type of tweets.\n",
    "\n",
    "The dataset consists of train and test data. The former has **7613 observations on 5 features** and the latter has **3263 observations on 4 features**. The features include are 'id', 'keyword' , 'location', 'text' and 'target'. The tweets have been manually marked as **'1' meaning actual disaster** and **'0' indicating not a real disaster**."
   ]
  },
  {
   "cell_type": "markdown",
   "id": "df253a23",
   "metadata": {},
   "source": [
    "## Data Preprocessing"
   ]
  },
  {
   "cell_type": "code",
   "execution_count": 8,
   "id": "590d3e09",
   "metadata": {},
   "outputs": [
    {
     "data": {
      "text/plain": [
       "id           int64\n",
       "keyword     object\n",
       "location    object\n",
       "text        object\n",
       "target       int64\n",
       "dtype: object"
      ]
     },
     "execution_count": 8,
     "metadata": {},
     "output_type": "execute_result"
    }
   ],
   "source": [
    "train.dtypes"
   ]
  },
  {
   "cell_type": "code",
   "execution_count": 9,
   "id": "4cc291af",
   "metadata": {},
   "outputs": [
    {
     "data": {
      "text/plain": [
       "<bound method DataFrame.info of          id keyword location  \\\n",
       "0         1     NaN      NaN   \n",
       "1         4     NaN      NaN   \n",
       "2         5     NaN      NaN   \n",
       "3         6     NaN      NaN   \n",
       "4         7     NaN      NaN   \n",
       "...     ...     ...      ...   \n",
       "7608  10869     NaN      NaN   \n",
       "7609  10870     NaN      NaN   \n",
       "7610  10871     NaN      NaN   \n",
       "7611  10872     NaN      NaN   \n",
       "7612  10873     NaN      NaN   \n",
       "\n",
       "                                                   text  target  \n",
       "0     Our Deeds are the Reason of this #earthquake M...       1  \n",
       "1                Forest fire near La Ronge Sask. Canada       1  \n",
       "2     All residents asked to 'shelter in place' are ...       1  \n",
       "3     13,000 people receive #wildfires evacuation or...       1  \n",
       "4     Just got sent this photo from Ruby #Alaska as ...       1  \n",
       "...                                                 ...     ...  \n",
       "7608  Two giant cranes holding a bridge collapse int...       1  \n",
       "7609  @aria_ahrary @TheTawniest The out of control w...       1  \n",
       "7610  M1.94 [01:04 UTC]?5km S of Volcano Hawaii. htt...       1  \n",
       "7611  Police investigating after an e-bike collided ...       1  \n",
       "7612  The Latest: More Homes Razed by Northern Calif...       1  \n",
       "\n",
       "[7613 rows x 5 columns]>"
      ]
     },
     "execution_count": 9,
     "metadata": {},
     "output_type": "execute_result"
    }
   ],
   "source": [
    "train.info"
   ]
  },
  {
   "cell_type": "code",
   "execution_count": 10,
   "id": "c2c7958e",
   "metadata": {},
   "outputs": [
    {
     "data": {
      "text/plain": [
       "<bound method DataFrame.info of          id keyword location  \\\n",
       "0         0     NaN      NaN   \n",
       "1         2     NaN      NaN   \n",
       "2         3     NaN      NaN   \n",
       "3         9     NaN      NaN   \n",
       "4        11     NaN      NaN   \n",
       "...     ...     ...      ...   \n",
       "3258  10861     NaN      NaN   \n",
       "3259  10865     NaN      NaN   \n",
       "3260  10868     NaN      NaN   \n",
       "3261  10874     NaN      NaN   \n",
       "3262  10875     NaN      NaN   \n",
       "\n",
       "                                                   text  \n",
       "0                    Just happened a terrible car crash  \n",
       "1     Heard about #earthquake is different cities, s...  \n",
       "2     there is a forest fire at spot pond, geese are...  \n",
       "3              Apocalypse lighting. #Spokane #wildfires  \n",
       "4         Typhoon Soudelor kills 28 in China and Taiwan  \n",
       "...                                                 ...  \n",
       "3258  EARTHQUAKE SAFETY LOS ANGELES ÛÒ SAFETY FASTE...  \n",
       "3259  Storm in RI worse than last hurricane. My city...  \n",
       "3260  Green Line derailment in Chicago http://t.co/U...  \n",
       "3261  MEG issues Hazardous Weather Outlook (HWO) htt...  \n",
       "3262  #CityofCalgary has activated its Municipal Eme...  \n",
       "\n",
       "[3263 rows x 4 columns]>"
      ]
     },
     "execution_count": 10,
     "metadata": {},
     "output_type": "execute_result"
    }
   ],
   "source": [
    "test.info"
   ]
  },
  {
   "cell_type": "markdown",
   "id": "65e58643",
   "metadata": {},
   "source": [
    "**Removing redundant columns**"
   ]
  },
  {
   "cell_type": "code",
   "execution_count": 11,
   "id": "37f07126",
   "metadata": {},
   "outputs": [],
   "source": [
    "train = train.drop(['id','keyword','location'], axis = 1)"
   ]
  },
  {
   "cell_type": "code",
   "execution_count": 12,
   "id": "618cdc43",
   "metadata": {},
   "outputs": [
    {
     "data": {
      "text/html": [
       "<div>\n",
       "<style scoped>\n",
       "    .dataframe tbody tr th:only-of-type {\n",
       "        vertical-align: middle;\n",
       "    }\n",
       "\n",
       "    .dataframe tbody tr th {\n",
       "        vertical-align: top;\n",
       "    }\n",
       "\n",
       "    .dataframe thead th {\n",
       "        text-align: right;\n",
       "    }\n",
       "</style>\n",
       "<table border=\"1\" class=\"dataframe\">\n",
       "  <thead>\n",
       "    <tr style=\"text-align: right;\">\n",
       "      <th></th>\n",
       "      <th>text</th>\n",
       "      <th>target</th>\n",
       "    </tr>\n",
       "  </thead>\n",
       "  <tbody>\n",
       "    <tr>\n",
       "      <th>0</th>\n",
       "      <td>Our Deeds are the Reason of this #earthquake M...</td>\n",
       "      <td>1</td>\n",
       "    </tr>\n",
       "    <tr>\n",
       "      <th>1</th>\n",
       "      <td>Forest fire near La Ronge Sask. Canada</td>\n",
       "      <td>1</td>\n",
       "    </tr>\n",
       "    <tr>\n",
       "      <th>2</th>\n",
       "      <td>All residents asked to 'shelter in place' are ...</td>\n",
       "      <td>1</td>\n",
       "    </tr>\n",
       "    <tr>\n",
       "      <th>3</th>\n",
       "      <td>13,000 people receive #wildfires evacuation or...</td>\n",
       "      <td>1</td>\n",
       "    </tr>\n",
       "    <tr>\n",
       "      <th>4</th>\n",
       "      <td>Just got sent this photo from Ruby #Alaska as ...</td>\n",
       "      <td>1</td>\n",
       "    </tr>\n",
       "  </tbody>\n",
       "</table>\n",
       "</div>"
      ],
      "text/plain": [
       "                                                text  target\n",
       "0  Our Deeds are the Reason of this #earthquake M...       1\n",
       "1             Forest fire near La Ronge Sask. Canada       1\n",
       "2  All residents asked to 'shelter in place' are ...       1\n",
       "3  13,000 people receive #wildfires evacuation or...       1\n",
       "4  Just got sent this photo from Ruby #Alaska as ...       1"
      ]
     },
     "execution_count": 12,
     "metadata": {},
     "output_type": "execute_result"
    }
   ],
   "source": [
    "train.head()"
   ]
  },
  {
   "cell_type": "markdown",
   "id": "4f678819",
   "metadata": {},
   "source": [
    "**Cleaning the text**"
   ]
  },
  {
   "cell_type": "code",
   "execution_count": 13,
   "id": "33ef9aa7",
   "metadata": {},
   "outputs": [],
   "source": [
    "stop = set(nltk.corpus.stopwords.words('english'))\n",
    "stop_words = stop.union({\"http\"}) ###IMPORTANT######################################################\n",
    "\n",
    "\n",
    "def cleaning(x):\n",
    "    \n",
    "    # converting to words\n",
    "    tokens = word_tokenize(x)\n",
    "    \n",
    "    # convert to lower case\n",
    "    words = [w.lower() for w in tokens]\n",
    "    \n",
    "    # removing alphanumerics\n",
    "    words = [word for word in words if word.isalpha()]\n",
    "    \n",
    "    # removing punctuations\n",
    "    table = str.maketrans('', '', string.punctuation)\n",
    "    stripped = [w.translate(table) for w in words]    \n",
    "        \n",
    "    # removing stopwords after modification\n",
    "    words_mod = [w for w in stripped if not w in stop_words]\n",
    "    \n",
    "    # word lemmatization\n",
    "    lemmatizer = WordNetLemmatizer()\n",
    "    sentence = \" \".join([lemmatizer.lemmatize(w) for w in words_mod]) \n",
    "    \n",
    "    sen = \" \".join(sentence.split())\n",
    "        \n",
    "    return (sen)"
   ]
  },
  {
   "cell_type": "code",
   "execution_count": 14,
   "id": "ff53c3a0",
   "metadata": {},
   "outputs": [],
   "source": [
    "train_text = train.text.apply(lambda x: cleaning(x))\n",
    "test_text = test.text.apply(lambda x: cleaning(x))\n"
   ]
  },
  {
   "cell_type": "markdown",
   "id": "1f2dfc75",
   "metadata": {},
   "source": [
    "**Summary Analysis**"
   ]
  },
  {
   "cell_type": "markdown",
   "id": "f9a29f2c",
   "metadata": {},
   "source": [
    "Since the objective of the project is to predict the tweets as real disaster or not based on the content, hence, we did not need to retain the additional columns and removed the columns named **'id' , 'location' and 'keyword' altogether**.\n",
    "\n",
    "The second step involved the cleaning of the given data. For this, the following steps were performed:\n",
    "\n",
    "1. Word Tokenization\n",
    "2. Word Case to Lower\n",
    "3. Removal of Punctuation\n",
    "4. Removal of Alphanumerics\n",
    "5. Removal of stopwords\n",
    "6. Word Lemmatization\n",
    "\n",
    "These steps to streamline the data were performed on both the train and test data."
   ]
  },
  {
   "cell_type": "markdown",
   "id": "8189a2ab",
   "metadata": {},
   "source": [
    "## EDA"
   ]
  },
  {
   "cell_type": "markdown",
   "id": "6c7e0bbf",
   "metadata": {},
   "source": [
    "**Checking Balancing**"
   ]
  },
  {
   "cell_type": "code",
   "execution_count": 15,
   "id": "85afc0d7",
   "metadata": {},
   "outputs": [
    {
     "data": {
      "text/plain": [
       "0    4342\n",
       "1    3271\n",
       "Name: target, dtype: int64"
      ]
     },
     "execution_count": 15,
     "metadata": {},
     "output_type": "execute_result"
    }
   ],
   "source": [
    "train.target.value_counts()"
   ]
  },
  {
   "cell_type": "code",
   "execution_count": 16,
   "id": "d868fbd5",
   "metadata": {},
   "outputs": [
    {
     "data": {
      "text/plain": [
       "([<matplotlib.patches.Wedge at 0x1da30bdfdf0>,\n",
       "  <matplotlib.patches.Wedge at 0x1da31285370>],\n",
       " [Text(-0.24110481617711207, 1.0732513534192263, '0'),\n",
       "  Text(0.24110481617711216, -1.0732513534192263, '1')])"
      ]
     },
     "execution_count": 16,
     "metadata": {},
     "output_type": "execute_result"
    },
    {
     "data": {
      "image/png": "[encoded data removed]",
      "text/plain": [
       "<Figure size 432x288 with 1 Axes>"
      ]
     },
     "metadata": {},
     "output_type": "display_data"
    }
   ],
   "source": [
    "plt.pie(train.target.value_counts(), labels = [0,1])"
   ]
  },
  {
   "cell_type": "markdown",
   "id": "b706ac44",
   "metadata": {},
   "source": [
    "**Getting word frequencies of Classes**"
   ]
  },
  {
   "cell_type": "code",
   "execution_count": 17,
   "id": "c16a61ec",
   "metadata": {},
   "outputs": [],
   "source": [
    "unreal = []\n",
    "real  = []\n",
    "for i in range(len(train.target)):\n",
    "    if train.target[i] == 1:\n",
    "        unreal.append(train_text[i])\n",
    "    else:\n",
    "        real.append(train_text[i])"
   ]
  },
  {
   "cell_type": "code",
   "execution_count": 18,
   "id": "2ebfae47",
   "metadata": {},
   "outputs": [],
   "source": [
    "real_token = []\n",
    "unreal_token = []\n",
    "\n",
    "for i in range(len(real)): \n",
    "    real_token.append(real[i].split(\" \"))\n",
    "\n",
    "for i in range(len(unreal)):    \n",
    "    unreal_token.append(unreal[i].split(\" \"))\n",
    "    \n",
    "real_token_j = list(itertools.chain.from_iterable(real_token))\n",
    "unreal_token_j = list(itertools.chain.from_iterable(unreal_token))"
   ]
  },
  {
   "cell_type": "code",
   "execution_count": 19,
   "id": "5e1a4be5",
   "metadata": {},
   "outputs": [],
   "source": [
    "real_count = collections.Counter(real_token_j)\n",
    "unreal_count = collections.Counter(unreal_token_j)"
   ]
  },
  {
   "cell_type": "code",
   "execution_count": 20,
   "id": "46c104a5",
   "metadata": {},
   "outputs": [],
   "source": [
    "real_df = pd.DataFrame(real_count.most_common(20),columns=[\"Word\", \"Frequency\"])\n",
    "unreal_df = pd.DataFrame(unreal_count.most_common(20),columns=[\"Word\", \"Frequency\"])\n"
   ]
  },
  {
   "cell_type": "code",
   "execution_count": 72,
   "id": "4aa4302d",
   "metadata": {},
   "outputs": [
    {
     "data": {
      "text/plain": [
       "<AxesSubplot:xlabel='Word'>"
      ]
     },
     "execution_count": 72,
     "metadata": {},
     "output_type": "execute_result"
    },
    {
     "data": {
      "image/png": "[encoded data removed]",
      "text/plain": [
       "<Figure size 1440x720 with 1 Axes>"
      ]
     },
     "metadata": {
      "needs_background": "light"
     },
     "output_type": "display_data"
    }
   ],
   "source": [
    "real_df.plot(x= \"Word\"  , y = \"Frequency\" ,kind = \"bar\", figsize=(20,10))"
   ]
  },
  {
   "cell_type": "code",
   "execution_count": 73,
   "id": "e2c4052b",
   "metadata": {},
   "outputs": [
    {
     "data": {
      "text/plain": [
       "<AxesSubplot:xlabel='Word'>"
      ]
     },
     "execution_count": 73,
     "metadata": {},
     "output_type": "execute_result"
    },
    {
     "data": {
      "image/png": "[encoded data removed]",
      "text/plain": [
       "<Figure size 1440x720 with 1 Axes>"
      ]
     },
     "metadata": {
      "needs_background": "light"
     },
     "output_type": "display_data"
    }
   ],
   "source": [
    "unreal_df.plot(x= \"Word\"  , y = \"Frequency\" ,kind = \"bar\", figsize=(20,10))"
   ]
  },
  {
   "cell_type": "markdown",
   "id": "7b5280dd",
   "metadata": {},
   "source": [
    "**Analysis**"
   ]
  },
  {
   "cell_type": "markdown",
   "id": "58a2390b",
   "metadata": {},
   "source": [
    "The balancing of the data suggests that the amount of the fake tweets is less than then the actual ones. Since, the difference is not that much that it would skew the result much so we would leave it as it is.\n",
    "\n",
    "The second part was to have a rough idea of the words that are occuring in the actual tweets to the fake ones. It reveals that the words http occurs the most in the hoax tweets followed words like, amp and get. The actual data seems to have words such fire, news and amp as the top most. It is however, pertinent to note here the words amp and http are occuring in both types albeit with different frequencies. Regardless, these words are bound to compromise the results in someway later on. "
   ]
  },
  {
   "cell_type": "markdown",
   "id": "29282262",
   "metadata": {},
   "source": [
    "## Model Training"
   ]
  },
  {
   "cell_type": "code",
   "execution_count": 23,
   "id": "0b369fe8",
   "metadata": {},
   "outputs": [],
   "source": [
    "## Tokening the cleaned tweets and converting them to a sequence for feeding into the model\n",
    "tokenizer = Tokenizer()\n",
    "tokenizer.fit_on_texts(train_text.append(test_text))\n",
    "\n",
    "train_seq = tokenizer.texts_to_sequences(train_text.values.reshape(len(train),))\n",
    "test_seq = tokenizer.texts_to_sequences(test_text.values)"
   ]
  },
  {
   "cell_type": "code",
   "execution_count": 24,
   "id": "f3233c52",
   "metadata": {},
   "outputs": [],
   "source": [
    "## Joining the two datasets to get the longest tweet for padding\n",
    "joint_data = train_text.append(test_text)\n",
    "joint_data = list(joint_data)\n",
    "j_token = []\n",
    "for i in range(len(joint_data)): \n",
    "    j_token.append(joint_data[i].split(\" \"))\n",
    "    \n",
    "tok_j = list(itertools.chain.from_iterable(real_token))"
   ]
  },
  {
   "cell_type": "code",
   "execution_count": 25,
   "id": "5075a87f",
   "metadata": {},
   "outputs": [
    {
     "data": {
      "text/plain": [
       "10876"
      ]
     },
     "execution_count": 25,
     "metadata": {},
     "output_type": "execute_result"
    }
   ],
   "source": [
    "len(joint_data)"
   ]
  },
  {
   "cell_type": "code",
   "execution_count": 26,
   "id": "047e048b",
   "metadata": {},
   "outputs": [
    {
     "data": {
      "text/plain": [
       "36058"
      ]
     },
     "execution_count": 26,
     "metadata": {},
     "output_type": "execute_result"
    }
   ],
   "source": [
    "len(tok_j)"
   ]
  },
  {
   "cell_type": "code",
   "execution_count": 27,
   "id": "602ff119",
   "metadata": {},
   "outputs": [
    {
     "data": {
      "text/plain": [
       "23"
      ]
     },
     "execution_count": 27,
     "metadata": {},
     "output_type": "execute_result"
    }
   ],
   "source": [
    "max(len(x.split()) for x in joint_data)"
   ]
  },
  {
   "cell_type": "code",
   "execution_count": 28,
   "id": "acfbd574",
   "metadata": {},
   "outputs": [],
   "source": [
    "train_pad = pad_sequences(train_seq, maxlen=23, padding='post')\n",
    "test_pad = pad_sequences(test_seq, maxlen=23, padding='post')"
   ]
  },
  {
   "cell_type": "markdown",
   "id": "6ba71ada",
   "metadata": {},
   "source": [
    "### Model Architecture Design"
   ]
  },
  {
   "cell_type": "markdown",
   "id": "4c10175d",
   "metadata": {},
   "source": [
    "The model architecture was designed to have 3 layers in total. We will be making and testing 3 models with the bidirectional which would enhance our model by giving it the ability to learn from both forward and backward way. We will change it **LSTM, GRU and a combination of LSTM & GRU**.\n",
    "\n",
    "1. The initial layer with input length as 23 with padding, with LSTM(Long short term memory) gates on 100 hidden units. The drop out was set at 0.2 to reduce the probability of overfitting.\n",
    "2. The second layer designed as dense with the activation set at relu.\n",
    "3. The output layer was also taken as dense but with activation set to sigmoid now."
   ]
  },
  {
   "cell_type": "markdown",
   "id": "8b7fbd4f",
   "metadata": {},
   "source": [
    "**LSTM**"
   ]
  },
  {
   "cell_type": "code",
   "execution_count": 29,
   "id": "717e0c81",
   "metadata": {},
   "outputs": [
    {
     "name": "stdout",
     "output_type": "stream",
     "text": [
      "Model: \"sequential\"\n",
      "_________________________________________________________________\n",
      "Layer (type)                 Output Shape              Param #   \n",
      "=================================================================\n",
      "embedding (Embedding)        (None, 23, 100)           3605900   \n",
      "_________________________________________________________________\n",
      "bidirectional (Bidirectional (None, 256)               234496    \n",
      "_________________________________________________________________\n",
      "dropout (Dropout)            (None, 256)               0         \n",
      "_________________________________________________________________\n",
      "dense (Dense)                (None, 256)               65792     \n",
      "_________________________________________________________________\n",
      "dropout_1 (Dropout)          (None, 256)               0         \n",
      "_________________________________________________________________\n",
      "dense_1 (Dense)              (None, 1)                 257       \n",
      "=================================================================\n",
      "Total params: 3,906,445\n",
      "Trainable params: 3,906,445\n",
      "Non-trainable params: 0\n",
      "_________________________________________________________________\n"
     ]
    }
   ],
   "source": [
    "embed_units = 100\n",
    "hidden_units = 128\n",
    "model1 = Sequential()\n",
    "\n",
    "\n",
    "model1.add(Embedding(36059, embed_units, input_length = 23))\n",
    "model1.add(Bidirectional(LSTM(hidden_units)))\n",
    "model1.add(Dropout(0.2))\n",
    "\n",
    "\n",
    "model1.add(Dense(256, activation='relu'))\n",
    "model1.add(Dropout(0.2))\n",
    "model1.add(Dense(1, activation='sigmoid'))\n",
    "\n",
    "model1.summary()"
   ]
  },
  {
   "cell_type": "code",
   "execution_count": 30,
   "id": "536a1d33",
   "metadata": {},
   "outputs": [],
   "source": [
    "learning_rate = 0.001\n",
    "model1.compile(loss = 'binary_crossentropy',\n",
    "              optimizer = 'adam',\n",
    "              metrics = ['accuracy'])"
   ]
  },
  {
   "cell_type": "code",
   "execution_count": 31,
   "id": "b06bb89b",
   "metadata": {},
   "outputs": [
    {
     "name": "stdout",
     "output_type": "stream",
     "text": [
      "Epoch 1/5\n",
      "191/191 [==============================] - 15s 57ms/step - loss: 0.5381 - accuracy: 0.7259 - val_loss: 0.4690 - val_accuracy: 0.7879\n",
      "Epoch 2/5\n",
      "191/191 [==============================] - 10s 54ms/step - loss: 0.2976 - accuracy: 0.8814 - val_loss: 0.4978 - val_accuracy: 0.7722\n",
      "Epoch 3/5\n",
      "191/191 [==============================] - 11s 58ms/step - loss: 0.1741 - accuracy: 0.9356 - val_loss: 0.6098 - val_accuracy: 0.7275\n",
      "Epoch 4/5\n",
      "191/191 [==============================] - 10s 51ms/step - loss: 0.1141 - accuracy: 0.9611 - val_loss: 0.7613 - val_accuracy: 0.7255\n",
      "Epoch 5/5\n",
      "191/191 [==============================] - 9s 49ms/step - loss: 0.0777 - accuracy: 0.9714 - val_loss: 1.0191 - val_accuracy: 0.7295\n"
     ]
    }
   ],
   "source": [
    "model_hist1 = model1.fit((train_pad), (train.target),                          \n",
    "                          epochs=5, \n",
    "                          validation_split=0.2)"
   ]
  },
  {
   "cell_type": "markdown",
   "id": "48c9225b",
   "metadata": {},
   "source": [
    "**GRU**"
   ]
  },
  {
   "cell_type": "code",
   "execution_count": 32,
   "id": "cf4e81c6",
   "metadata": {},
   "outputs": [
    {
     "name": "stdout",
     "output_type": "stream",
     "text": [
      "Model: \"sequential_1\"\n",
      "_________________________________________________________________\n",
      "Layer (type)                 Output Shape              Param #   \n",
      "=================================================================\n",
      "embedding_1 (Embedding)      (None, 23, 100)           3605900   \n",
      "_________________________________________________________________\n",
      "bidirectional_1 (Bidirection (None, 256)               176640    \n",
      "_________________________________________________________________\n",
      "dropout_2 (Dropout)          (None, 256)               0         \n",
      "_________________________________________________________________\n",
      "dense_2 (Dense)              (None, 256)               65792     \n",
      "_________________________________________________________________\n",
      "dropout_3 (Dropout)          (None, 256)               0         \n",
      "_________________________________________________________________\n",
      "dense_3 (Dense)              (None, 1)                 257       \n",
      "=================================================================\n",
      "Total params: 3,848,589\n",
      "Trainable params: 3,848,589\n",
      "Non-trainable params: 0\n",
      "_________________________________________________________________\n"
     ]
    }
   ],
   "source": [
    "embed_units = 100\n",
    "hidden_units = 128\n",
    "\n",
    "model2 = Sequential()\n",
    "\n",
    "\n",
    "model2.add(Embedding(36059, embed_units, input_length = 23))\n",
    "model2.add(Bidirectional(GRU(hidden_units)))\n",
    "model2.add(Dropout(0.2))\n",
    "\n",
    "model2.add(Dense(256, activation='relu'))\n",
    "model2.add(Dropout(0.2))\n",
    "model2.add(Dense(1, activation='sigmoid'))\n",
    "\n",
    "model2.summary()"
   ]
  },
  {
   "cell_type": "code",
   "execution_count": 33,
   "id": "d6ff1d39",
   "metadata": {},
   "outputs": [
    {
     "name": "stdout",
     "output_type": "stream",
     "text": [
      "Epoch 1/5\n",
      "191/191 [==============================] - 15s 55ms/step - loss: 0.5288 - accuracy: 0.7307 - val_loss: 0.4633 - val_accuracy: 0.7951\n",
      "Epoch 2/5\n",
      "191/191 [==============================] - 9s 48ms/step - loss: 0.2841 - accuracy: 0.8852 - val_loss: 0.5103 - val_accuracy: 0.7623\n",
      "Epoch 3/5\n",
      "191/191 [==============================] - 9s 47ms/step - loss: 0.1627 - accuracy: 0.9419 - val_loss: 0.5809 - val_accuracy: 0.7328\n",
      "Epoch 4/5\n",
      "191/191 [==============================] - 9s 49ms/step - loss: 0.1053 - accuracy: 0.9634 - val_loss: 0.7373 - val_accuracy: 0.7104\n",
      "Epoch 5/5\n",
      "191/191 [==============================] - 10s 52ms/step - loss: 0.0830 - accuracy: 0.9718 - val_loss: 0.7235 - val_accuracy: 0.7183\n"
     ]
    }
   ],
   "source": [
    "learning_rate = 0.001\n",
    "model2.compile(loss = 'binary_crossentropy',\n",
    "              optimizer = 'adam',\n",
    "              metrics = ['accuracy'])\n",
    "\n",
    "model_hist_2 = model2.fit((train_pad), (train.target),                          \n",
    "                          epochs=5, \n",
    "                          validation_split=0.2)"
   ]
  },
  {
   "cell_type": "markdown",
   "id": "6a085a9c",
   "metadata": {},
   "source": [
    "**LSTM & GRU**"
   ]
  },
  {
   "cell_type": "code",
   "execution_count": 36,
   "id": "6ecd39d6",
   "metadata": {},
   "outputs": [
    {
     "name": "stdout",
     "output_type": "stream",
     "text": [
      "Model: \"sequential_3\"\n",
      "_________________________________________________________________\n",
      "Layer (type)                 Output Shape              Param #   \n",
      "=================================================================\n",
      "embedding_4 (Embedding)      (None, 23, 100)           3605900   \n",
      "_________________________________________________________________\n",
      "bidirectional_4 (Bidirection (None, 512)               549888    \n",
      "_________________________________________________________________\n",
      "dropout_7 (Dropout)          (None, 512)               0         \n",
      "_________________________________________________________________\n",
      "embedding_5 (Embedding)      (None, 512, 100)          3605900   \n",
      "_________________________________________________________________\n",
      "bidirectional_5 (Bidirection (None, 512)               731136    \n",
      "_________________________________________________________________\n",
      "dropout_8 (Dropout)          (None, 512)               0         \n",
      "_________________________________________________________________\n",
      "dense_6 (Dense)              (None, 256)               131328    \n",
      "_________________________________________________________________\n",
      "dropout_9 (Dropout)          (None, 256)               0         \n",
      "_________________________________________________________________\n",
      "dense_7 (Dense)              (None, 1)                 257       \n",
      "=================================================================\n",
      "Total params: 8,624,409\n",
      "Trainable params: 8,624,409\n",
      "Non-trainable params: 0\n",
      "_________________________________________________________________\n"
     ]
    }
   ],
   "source": [
    "embed_units = 100\n",
    "\n",
    "model3 = Sequential()\n",
    "\n",
    "\n",
    "model3.add(Embedding(36059, embed_units, input_length = 23))\n",
    "model3.add(Bidirectional(GRU(256)))\n",
    "model3.add(Dropout(0.2))\n",
    "\n",
    "model3.add(Embedding(36059, embed_units))\n",
    "model3.add(Bidirectional(LSTM(256)))\n",
    "model3.add(Dropout(0.2))\n",
    "\n",
    "model3.add(Dense(256, activation='relu'))\n",
    "model3.add(Dropout(0.2))\n",
    "model3.add(Dense(1, activation='sigmoid'))\n",
    "\n",
    "model3.summary()"
   ]
  },
  {
   "cell_type": "code",
   "execution_count": 38,
   "id": "a4381860",
   "metadata": {},
   "outputs": [
    {
     "name": "stdout",
     "output_type": "stream",
     "text": [
      "Epoch 1/5\n",
      "WARNING:tensorflow:Gradients do not exist for variables ['embedding_4/embeddings:0', 'bidirectional_4/forward_gru_2/gru_cell_7/kernel:0', 'bidirectional_4/forward_gru_2/gru_cell_7/recurrent_kernel:0', 'bidirectional_4/forward_gru_2/gru_cell_7/bias:0', 'bidirectional_4/backward_gru_2/gru_cell_8/kernel:0', 'bidirectional_4/backward_gru_2/gru_cell_8/recurrent_kernel:0', 'bidirectional_4/backward_gru_2/gru_cell_8/bias:0'] when minimizing the loss.\n",
      "WARNING:tensorflow:Gradients do not exist for variables ['embedding_4/embeddings:0', 'bidirectional_4/forward_gru_2/gru_cell_7/kernel:0', 'bidirectional_4/forward_gru_2/gru_cell_7/recurrent_kernel:0', 'bidirectional_4/forward_gru_2/gru_cell_7/bias:0', 'bidirectional_4/backward_gru_2/gru_cell_8/kernel:0', 'bidirectional_4/backward_gru_2/gru_cell_8/recurrent_kernel:0', 'bidirectional_4/backward_gru_2/gru_cell_8/bias:0'] when minimizing the loss.\n",
      "191/191 [==============================] - 277s 1s/step - loss: 0.6829 - accuracy: 0.5788 - val_loss: 0.6936 - val_accuracy: 0.5345\n",
      "Epoch 2/5\n",
      "191/191 [==============================] - 247s 1s/step - loss: 0.6822 - accuracy: 0.5793 - val_loss: 0.6934 - val_accuracy: 0.5345\n",
      "Epoch 3/5\n",
      "191/191 [==============================] - 267s 1s/step - loss: 0.6818 - accuracy: 0.5793 - val_loss: 0.6922 - val_accuracy: 0.5345\n",
      "Epoch 4/5\n",
      "191/191 [==============================] - 318s 2s/step - loss: 0.6816 - accuracy: 0.5793 - val_loss: 0.6934 - val_accuracy: 0.5345\n",
      "Epoch 5/5\n",
      "191/191 [==============================] - 373s 2s/step - loss: 0.6816 - accuracy: 0.5793 - val_loss: 0.6933 - val_accuracy: 0.5345\n"
     ]
    },
    {
     "data": {
      "text/plain": [
       "<keras.callbacks.History at 0x1da57fc9880>"
      ]
     },
     "execution_count": 38,
     "metadata": {},
     "output_type": "execute_result"
    }
   ],
   "source": [
    "learning_rate = 0.001\n",
    "model3.compile(loss = 'binary_crossentropy',\n",
    "              optimizer = 'adam',\n",
    "              metrics = ['accuracy'])\n",
    "\n",
    "model3.fit((train_pad), (train.target),                          \n",
    "                          epochs=5, \n",
    "                          validation_split=0.2)"
   ]
  },
  {
   "cell_type": "markdown",
   "id": "780f2834",
   "metadata": {},
   "source": [
    "**Results**"
   ]
  },
  {
   "cell_type": "markdown",
   "id": "4602b062",
   "metadata": {},
   "source": [
    "From the above results, we can broadly see that the LSTM is performing much better then the other two models. The difference against GRU is quite small with the GRU also generally faster and simpler then the LSTM. However, we will stick with the LSTM."
   ]
  },
  {
   "cell_type": "markdown",
   "id": "e46d1904",
   "metadata": {},
   "source": [
    "### Optimizer Selection"
   ]
  },
  {
   "cell_type": "markdown",
   "id": "55d6bd0b",
   "metadata": {},
   "source": [
    "After getting the general architecture, we will tweak the optimizers to get the best one. We will test 4 optimizers for the model that are:\n",
    "\n",
    "1. Adam\n",
    "2. RMSprop\n",
    "3. Adagrad\n",
    "4. Adadelta"
   ]
  },
  {
   "cell_type": "markdown",
   "id": "eb8c0c55",
   "metadata": {},
   "source": [
    "**Adam**"
   ]
  },
  {
   "cell_type": "code",
   "execution_count": 39,
   "id": "38761463",
   "metadata": {},
   "outputs": [
    {
     "name": "stdout",
     "output_type": "stream",
     "text": [
      "Model: \"sequential_4\"\n",
      "_________________________________________________________________\n",
      "Layer (type)                 Output Shape              Param #   \n",
      "=================================================================\n",
      "embedding_6 (Embedding)      (None, 23, 100)           3605900   \n",
      "_________________________________________________________________\n",
      "bidirectional_6 (Bidirection (None, 256)               234496    \n",
      "_________________________________________________________________\n",
      "dropout_10 (Dropout)         (None, 256)               0         \n",
      "_________________________________________________________________\n",
      "dense_8 (Dense)              (None, 256)               65792     \n",
      "_________________________________________________________________\n",
      "dropout_11 (Dropout)         (None, 256)               0         \n",
      "_________________________________________________________________\n",
      "dense_9 (Dense)              (None, 1)                 257       \n",
      "=================================================================\n",
      "Total params: 3,906,445\n",
      "Trainable params: 3,906,445\n",
      "Non-trainable params: 0\n",
      "_________________________________________________________________\n"
     ]
    }
   ],
   "source": [
    "embed_units = 100\n",
    "hidden_units = 128\n",
    "\n",
    "model2 = Sequential()\n",
    "\n",
    "\n",
    "model2.add(Embedding(36059, embed_units, input_length = 23))\n",
    "model2.add(Bidirectional(LSTM(hidden_units)))\n",
    "model2.add(Dropout(0.2))\n",
    "\n",
    "model2.add(Dense(256, activation='relu'))\n",
    "model2.add(Dropout(0.2))\n",
    "model2.add(Dense(1, activation='sigmoid'))\n",
    "\n",
    "model2.summary()\n",
    "\n",
    "learning_rate = 0.001\n",
    "model2.compile(loss = 'binary_crossentropy',\n",
    "              optimizer = 'adam',\n",
    "              metrics = ['accuracy'])"
   ]
  },
  {
   "cell_type": "code",
   "execution_count": 40,
   "id": "62a5fdeb",
   "metadata": {},
   "outputs": [
    {
     "name": "stdout",
     "output_type": "stream",
     "text": [
      "Epoch 1/5\n",
      "191/191 [==============================] - 12s 42ms/step - loss: 0.5341 - accuracy: 0.7278 - val_loss: 0.4773 - val_accuracy: 0.7846\n",
      "Epoch 2/5\n",
      "191/191 [==============================] - 8s 41ms/step - loss: 0.2853 - accuracy: 0.8854 - val_loss: 0.5011 - val_accuracy: 0.7840\n",
      "Epoch 3/5\n",
      "191/191 [==============================] - 7s 38ms/step - loss: 0.1696 - accuracy: 0.9383 - val_loss: 0.5850 - val_accuracy: 0.7564\n",
      "Epoch 4/5\n",
      "191/191 [==============================] - 7s 38ms/step - loss: 0.1095 - accuracy: 0.9621 - val_loss: 0.8344 - val_accuracy: 0.7538\n",
      "Epoch 5/5\n",
      "191/191 [==============================] - 7s 39ms/step - loss: 0.0756 - accuracy: 0.9706 - val_loss: 0.8595 - val_accuracy: 0.7301\n"
     ]
    },
    {
     "data": {
      "text/plain": [
       "<keras.callbacks.History at 0x1da92a63850>"
      ]
     },
     "execution_count": 40,
     "metadata": {},
     "output_type": "execute_result"
    }
   ],
   "source": [
    "model2.fit((train_pad), (train.target.values),                          \n",
    "                          epochs=5, \n",
    "                          validation_split=0.2)"
   ]
  },
  {
   "cell_type": "markdown",
   "id": "f8770174",
   "metadata": {},
   "source": [
    "**RMSprop**"
   ]
  },
  {
   "cell_type": "code",
   "execution_count": 41,
   "id": "8ee9f3fd",
   "metadata": {},
   "outputs": [],
   "source": [
    "embed_units = 100\n",
    "hidden_units = 128\n",
    "\n",
    "model2 = Sequential()\n",
    "\n",
    "\n",
    "model2.add(Embedding(36059, embed_units, input_length = 23))\n",
    "model2.add(Bidirectional(LSTM(hidden_units)))\n",
    "model2.add(Dropout(0.2))\n",
    "\n",
    "model2.add(Dense(256, activation='relu'))\n",
    "model2.add(Dropout(0.2))\n",
    "model2.add(Dense(1, activation='sigmoid'))\n",
    "\n",
    "learning_rate = 0.001\n",
    "model2.compile(loss = 'binary_crossentropy',\n",
    "              optimizer = 'RMSprop',\n",
    "              metrics = ['accuracy'])"
   ]
  },
  {
   "cell_type": "code",
   "execution_count": 42,
   "id": "dc40cdfe",
   "metadata": {},
   "outputs": [
    {
     "name": "stdout",
     "output_type": "stream",
     "text": [
      "Epoch 1/5\n",
      "191/191 [==============================] - 8s 29ms/step - loss: 0.5332 - accuracy: 0.7343 - val_loss: 0.4712 - val_accuracy: 0.7827\n",
      "Epoch 2/5\n",
      "191/191 [==============================] - 5s 28ms/step - loss: 0.3624 - accuracy: 0.8493 - val_loss: 0.4609 - val_accuracy: 0.7833\n",
      "Epoch 3/5\n",
      "191/191 [==============================] - 6s 29ms/step - loss: 0.3072 - accuracy: 0.8805 - val_loss: 0.4875 - val_accuracy: 0.7820\n",
      "Epoch 4/5\n",
      "191/191 [==============================] - 6s 29ms/step - loss: 0.2526 - accuracy: 0.9067 - val_loss: 0.4944 - val_accuracy: 0.7715\n",
      "Epoch 5/5\n",
      "191/191 [==============================] - 5s 28ms/step - loss: 0.2116 - accuracy: 0.9251 - val_loss: 0.5760 - val_accuracy: 0.7571\n"
     ]
    },
    {
     "data": {
      "text/plain": [
       "<keras.callbacks.History at 0x1da98dfc9d0>"
      ]
     },
     "execution_count": 42,
     "metadata": {},
     "output_type": "execute_result"
    }
   ],
   "source": [
    "model2.fit((train_pad), (train.target.values),                          \n",
    "                          epochs=5, \n",
    "                          validation_split=0.2)"
   ]
  },
  {
   "cell_type": "markdown",
   "id": "44798d29",
   "metadata": {},
   "source": [
    "**Adagrad**"
   ]
  },
  {
   "cell_type": "code",
   "execution_count": 43,
   "id": "dccb984f",
   "metadata": {},
   "outputs": [],
   "source": [
    "embed_units = 100\n",
    "hidden_units = 128\n",
    "\n",
    "model2 = Sequential()\n",
    "\n",
    "\n",
    "model2.add(Embedding(36059, embed_units, input_length = 23))\n",
    "model2.add(Bidirectional(LSTM(hidden_units)))\n",
    "model2.add(Dropout(0.2))\n",
    "\n",
    "model2.add(Dense(256, activation='relu'))\n",
    "model2.add(Dropout(0.2))\n",
    "model2.add(Dense(1, activation='sigmoid'))\n",
    "\n",
    "learning_rate = 0.001\n",
    "model2.compile(loss = 'binary_crossentropy',\n",
    "              optimizer = 'Adagrad',\n",
    "              metrics = ['accuracy'])"
   ]
  },
  {
   "cell_type": "code",
   "execution_count": 44,
   "id": "681eaa24",
   "metadata": {},
   "outputs": [
    {
     "name": "stdout",
     "output_type": "stream",
     "text": [
      "Epoch 1/5\n",
      "191/191 [==============================] - 8s 25ms/step - loss: 0.6893 - accuracy: 0.5775 - val_loss: 0.6910 - val_accuracy: 0.5345\n",
      "Epoch 2/5\n",
      "191/191 [==============================] - 4s 22ms/step - loss: 0.6854 - accuracy: 0.5793 - val_loss: 0.6908 - val_accuracy: 0.5345\n",
      "Epoch 3/5\n",
      "191/191 [==============================] - 4s 23ms/step - loss: 0.6832 - accuracy: 0.5793 - val_loss: 0.6912 - val_accuracy: 0.5345\n",
      "Epoch 4/5\n",
      "191/191 [==============================] - 4s 23ms/step - loss: 0.6823 - accuracy: 0.5793 - val_loss: 0.6917 - val_accuracy: 0.5345\n",
      "Epoch 5/5\n",
      "191/191 [==============================] - 4s 22ms/step - loss: 0.6815 - accuracy: 0.5793 - val_loss: 0.6922 - val_accuracy: 0.5345\n"
     ]
    },
    {
     "data": {
      "text/plain": [
       "<keras.callbacks.History at 0x1daa178fb50>"
      ]
     },
     "execution_count": 44,
     "metadata": {},
     "output_type": "execute_result"
    }
   ],
   "source": [
    "model2.fit((train_pad), (train.target.values),                          \n",
    "                          epochs=5, \n",
    "                          validation_split=0.2)"
   ]
  },
  {
   "cell_type": "markdown",
   "id": "5700f5f8",
   "metadata": {},
   "source": [
    "**AdaDelta**"
   ]
  },
  {
   "cell_type": "code",
   "execution_count": 45,
   "id": "18f118fa",
   "metadata": {},
   "outputs": [],
   "source": [
    "embed_units = 100\n",
    "hidden_units = 128\n",
    "\n",
    "model2 = Sequential()\n",
    "\n",
    "\n",
    "model2.add(Embedding(36059, embed_units, input_length = 23))\n",
    "model2.add(Bidirectional(LSTM(hidden_units)))\n",
    "model2.add(Dropout(0.2))\n",
    "\n",
    "model2.add(Dense(256, activation='relu'))\n",
    "model2.add(Dropout(0.2))\n",
    "model2.add(Dense(1, activation='sigmoid'))\n",
    "\n",
    "learning_rate = 0.001\n",
    "model2.compile(loss = 'binary_crossentropy',\n",
    "              optimizer = 'AdaDelta',\n",
    "              metrics = ['accuracy'])"
   ]
  },
  {
   "cell_type": "code",
   "execution_count": 46,
   "id": "cb835147",
   "metadata": {},
   "outputs": [
    {
     "name": "stdout",
     "output_type": "stream",
     "text": [
      "Epoch 1/5\n",
      "191/191 [==============================] - 8s 26ms/step - loss: 0.6927 - accuracy: 0.5299 - val_loss: 0.6930 - val_accuracy: 0.5279\n",
      "Epoch 2/5\n",
      "191/191 [==============================] - 4s 23ms/step - loss: 0.6925 - accuracy: 0.5504 - val_loss: 0.6929 - val_accuracy: 0.5325\n",
      "Epoch 3/5\n",
      "191/191 [==============================] - 4s 22ms/step - loss: 0.6921 - accuracy: 0.5673 - val_loss: 0.6928 - val_accuracy: 0.5345\n",
      "Epoch 4/5\n",
      "191/191 [==============================] - 5s 24ms/step - loss: 0.6918 - accuracy: 0.5703 - val_loss: 0.6926 - val_accuracy: 0.5345\n",
      "Epoch 5/5\n",
      "191/191 [==============================] - 5s 25ms/step - loss: 0.6915 - accuracy: 0.5765 - val_loss: 0.6925 - val_accuracy: 0.5345\n"
     ]
    },
    {
     "data": {
      "text/plain": [
       "<keras.callbacks.History at 0x1daa7360520>"
      ]
     },
     "execution_count": 46,
     "metadata": {},
     "output_type": "execute_result"
    }
   ],
   "source": [
    "model2.fit((train_pad), (train.target.values),                          \n",
    "                          epochs=5, \n",
    "                          validation_split=0.2)"
   ]
  },
  {
   "cell_type": "markdown",
   "id": "2ce1869c",
   "metadata": {},
   "source": [
    "**Analysis**"
   ]
  },
  {
   "cell_type": "markdown",
   "id": "ca5014a3",
   "metadata": {},
   "source": [
    "After our test, we can see that the RMSprop is the best choice amongst the 4. However, it is almsot at par with the Adam optimization. It was expected as these two are the most contemporary correcting the learning rates, bias and momentum rates from the 2 simpler optimizers as Adagrad and Adadelta."
   ]
  },
  {
   "cell_type": "markdown",
   "id": "16cec51b",
   "metadata": {},
   "source": [
    "## Hyperparameter Tuning"
   ]
  },
  {
   "cell_type": "markdown",
   "id": "4c65e885",
   "metadata": {},
   "source": [
    "**Learning Rate**"
   ]
  },
  {
   "cell_type": "code",
   "execution_count": 47,
   "id": "925864bb",
   "metadata": {},
   "outputs": [],
   "source": [
    "## Learning rate 0.005\n",
    "embed_units = 100\n",
    "hidden_units = 128\n",
    "\n",
    "model2 = Sequential()\n",
    "\n",
    "\n",
    "model2.add(Embedding(36059, embed_units, input_length = 23))\n",
    "model2.add(Bidirectional(LSTM(hidden_units)))\n",
    "model2.add(Dropout(0.2))\n",
    "\n",
    "model2.add(Dense(256, activation='relu'))\n",
    "model2.add(Dropout(0.2))\n",
    "model2.add(Dense(1, activation='sigmoid'))\n",
    "\n",
    "learning_rate = 0.005\n",
    "model2.compile(loss = 'binary_crossentropy',\n",
    "              optimizer = 'RMSprop',\n",
    "              metrics = ['accuracy'])"
   ]
  },
  {
   "cell_type": "code",
   "execution_count": 48,
   "id": "be5e8c58",
   "metadata": {},
   "outputs": [
    {
     "name": "stdout",
     "output_type": "stream",
     "text": [
      "Epoch 1/5\n",
      "191/191 [==============================] - 8s 28ms/step - loss: 0.5319 - accuracy: 0.7323 - val_loss: 0.4779 - val_accuracy: 0.7840\n",
      "Epoch 2/5\n",
      "191/191 [==============================] - 5s 25ms/step - loss: 0.3599 - accuracy: 0.8499 - val_loss: 0.4709 - val_accuracy: 0.7925\n",
      "Epoch 3/5\n",
      "191/191 [==============================] - 5s 24ms/step - loss: 0.3018 - accuracy: 0.8818 - val_loss: 0.4881 - val_accuracy: 0.7748\n",
      "Epoch 4/5\n",
      "191/191 [==============================] - 5s 25ms/step - loss: 0.2501 - accuracy: 0.9071 - val_loss: 0.5208 - val_accuracy: 0.7577\n",
      "Epoch 5/5\n",
      "191/191 [==============================] - 5s 27ms/step - loss: 0.2025 - accuracy: 0.9319 - val_loss: 0.6782 - val_accuracy: 0.6770\n"
     ]
    },
    {
     "data": {
      "text/plain": [
       "<keras.callbacks.History at 0x1daa6e6cee0>"
      ]
     },
     "execution_count": 48,
     "metadata": {},
     "output_type": "execute_result"
    }
   ],
   "source": [
    "model2.fit((train_pad), (train.target.values),                          \n",
    "                          epochs=5, \n",
    "                          validation_split=0.2)"
   ]
  },
  {
   "cell_type": "code",
   "execution_count": null,
   "id": "b5f747c3",
   "metadata": {},
   "outputs": [],
   "source": []
  },
  {
   "cell_type": "code",
   "execution_count": 49,
   "id": "de3a309e",
   "metadata": {},
   "outputs": [],
   "source": [
    "## Learning rate 0.008\n",
    "\n",
    "embed_units = 100\n",
    "hidden_units = 128\n",
    "\n",
    "model2 = Sequential()\n",
    "\n",
    "\n",
    "model2.add(Embedding(36059, embed_units, input_length = 23))\n",
    "model2.add(Bidirectional(LSTM(hidden_units)))\n",
    "model2.add(Dropout(0.2))\n",
    "\n",
    "model2.add(Dense(256, activation='relu'))\n",
    "model2.add(Dropout(0.2))\n",
    "model2.add(Dense(1, activation='sigmoid'))\n",
    "\n",
    "learning_rate = 0.008\n",
    "model2.compile(loss = 'binary_crossentropy',\n",
    "              optimizer = 'RMSprop',\n",
    "              metrics = ['accuracy'])"
   ]
  },
  {
   "cell_type": "code",
   "execution_count": 50,
   "id": "a224f9a1",
   "metadata": {},
   "outputs": [
    {
     "name": "stdout",
     "output_type": "stream",
     "text": [
      "Epoch 1/5\n",
      "191/191 [==============================] - 9s 30ms/step - loss: 0.5261 - accuracy: 0.7351 - val_loss: 0.4685 - val_accuracy: 0.7984\n",
      "Epoch 2/5\n",
      "191/191 [==============================] - 5s 28ms/step - loss: 0.3626 - accuracy: 0.8525 - val_loss: 0.4746 - val_accuracy: 0.7912\n",
      "Epoch 3/5\n",
      "191/191 [==============================] - 5s 27ms/step - loss: 0.3036 - accuracy: 0.8760 - val_loss: 0.4913 - val_accuracy: 0.7676\n",
      "Epoch 4/5\n",
      "191/191 [==============================] - 5s 27ms/step - loss: 0.2477 - accuracy: 0.9077 - val_loss: 0.5156 - val_accuracy: 0.7623\n",
      "Epoch 5/5\n",
      "191/191 [==============================] - 5s 28ms/step - loss: 0.2035 - accuracy: 0.9297 - val_loss: 0.5837 - val_accuracy: 0.7124\n"
     ]
    },
    {
     "data": {
      "text/plain": [
       "<keras.callbacks.History at 0x1dab6e0efd0>"
      ]
     },
     "execution_count": 50,
     "metadata": {},
     "output_type": "execute_result"
    }
   ],
   "source": [
    "model2.fit((train_pad), (train.target.values),                          \n",
    "                          epochs=5, \n",
    "                          validation_split=0.2)"
   ]
  },
  {
   "cell_type": "code",
   "execution_count": null,
   "id": "8c439f53",
   "metadata": {},
   "outputs": [],
   "source": []
  },
  {
   "cell_type": "code",
   "execution_count": 51,
   "id": "2053f62a",
   "metadata": {},
   "outputs": [],
   "source": [
    "## Learning rate 0.003\n",
    "\n",
    "embed_units = 100\n",
    "hidden_units = 128\n",
    "\n",
    "model2 = Sequential()\n",
    "\n",
    "\n",
    "model2.add(Embedding(36059, embed_units, input_length = 23))\n",
    "model2.add(Bidirectional(LSTM(hidden_units)))\n",
    "model2.add(Dropout(0.2))\n",
    "\n",
    "model2.add(Dense(256, activation='relu'))\n",
    "model2.add(Dropout(0.2))\n",
    "model2.add(Dense(1, activation='sigmoid'))\n",
    "\n",
    "learning_rate = 0.003\n",
    "model2.compile(loss = 'binary_crossentropy',\n",
    "              optimizer = 'RMSprop',\n",
    "              metrics = ['accuracy'])"
   ]
  },
  {
   "cell_type": "code",
   "execution_count": 52,
   "id": "ad24015a",
   "metadata": {},
   "outputs": [
    {
     "name": "stdout",
     "output_type": "stream",
     "text": [
      "Epoch 1/5\n",
      "191/191 [==============================] - 10s 30ms/step - loss: 0.5353 - accuracy: 0.7289 - val_loss: 0.4843 - val_accuracy: 0.7840\n",
      "Epoch 2/5\n",
      "191/191 [==============================] - 6s 30ms/step - loss: 0.3637 - accuracy: 0.8470 - val_loss: 0.4784 - val_accuracy: 0.7873\n",
      "Epoch 3/5\n",
      "191/191 [==============================] - 5s 27ms/step - loss: 0.3099 - accuracy: 0.8790 - val_loss: 0.4715 - val_accuracy: 0.7715\n",
      "Epoch 4/5\n",
      "191/191 [==============================] - 5s 27ms/step - loss: 0.2670 - accuracy: 0.9010 - val_loss: 0.5403 - val_accuracy: 0.7505\n",
      "Epoch 5/5\n",
      "191/191 [==============================] - 5s 28ms/step - loss: 0.2180 - accuracy: 0.9223 - val_loss: 0.5608 - val_accuracy: 0.7177\n"
     ]
    },
    {
     "data": {
      "text/plain": [
       "<keras.callbacks.History at 0x1dabe9d9a00>"
      ]
     },
     "execution_count": 52,
     "metadata": {},
     "output_type": "execute_result"
    }
   ],
   "source": [
    "model2.fit((train_pad), (train.target.values),                          \n",
    "                          epochs=5, \n",
    "                          validation_split=0.2)"
   ]
  },
  {
   "cell_type": "markdown",
   "id": "4bbf9464",
   "metadata": {},
   "source": [
    "**Analysis**\n",
    "\n",
    "The learning rates tweak gives us the best **learning rate as 0.005**."
   ]
  },
  {
   "cell_type": "markdown",
   "id": "c614bb5e",
   "metadata": {},
   "source": [
    "## Final Model"
   ]
  },
  {
   "cell_type": "code",
   "execution_count": 75,
   "id": "f88399e0",
   "metadata": {},
   "outputs": [],
   "source": [
    "model_f = Sequential()\n",
    "\n",
    "\n",
    "model_f.add(Embedding(36059, 100, input_length = 23))\n",
    "model_f.add(Bidirectional(GRU(100)))\n",
    "model_f.add(Dropout(0.2))\n",
    "\n",
    "model_f.add(Dense(256, activation='relu'))\n",
    "model_f.add(Dropout(0.2))\n",
    "model_f.add(Dense(1, activation='sigmoid'))\n",
    "\n",
    "learning_rate = 0.005\n",
    "model_f.compile(loss = 'binary_crossentropy',\n",
    "              optimizer = 'RMSprop',\n",
    "              metrics = ['accuracy'])"
   ]
  },
  {
   "cell_type": "code",
   "execution_count": 76,
   "id": "9de82161",
   "metadata": {},
   "outputs": [
    {
     "name": "stdout",
     "output_type": "stream",
     "text": [
      "Epoch 1/5\n",
      "191/191 [==============================] - 12s 39ms/step - loss: 0.5274 - accuracy: 0.7346 - val_loss: 0.4897 - val_accuracy: 0.7827\n",
      "Epoch 2/5\n",
      "191/191 [==============================] - 6s 34ms/step - loss: 0.3616 - accuracy: 0.8532 - val_loss: 0.4561 - val_accuracy: 0.7919\n",
      "Epoch 3/5\n",
      "191/191 [==============================] - 7s 36ms/step - loss: 0.3014 - accuracy: 0.8833 - val_loss: 0.5253 - val_accuracy: 0.7347\n",
      "Epoch 4/5\n",
      "191/191 [==============================] - 8s 40ms/step - loss: 0.2478 - accuracy: 0.9082 - val_loss: 0.5369 - val_accuracy: 0.7557\n",
      "Epoch 5/5\n",
      "191/191 [==============================] - 8s 42ms/step - loss: 0.2076 - accuracy: 0.9269 - val_loss: 0.5767 - val_accuracy: 0.7085\n"
     ]
    },
    {
     "data": {
      "text/plain": [
       "<keras.callbacks.History at 0x1dac72d4670>"
      ]
     },
     "execution_count": 76,
     "metadata": {},
     "output_type": "execute_result"
    }
   ],
   "source": [
    "model_f.fit((train_pad), (train.target.values),                          \n",
    "                          epochs=5, \n",
    "                          validation_split=0.2)"
   ]
  },
  {
   "cell_type": "markdown",
   "id": "2066901b",
   "metadata": {},
   "source": [
    "## Result & Analysis"
   ]
  },
  {
   "cell_type": "markdown",
   "id": "33d77b83",
   "metadata": {},
   "source": [
    "**Model Architecture Comparison**"
   ]
  },
  {
   "cell_type": "code",
   "execution_count": 77,
   "id": "7e8b604a",
   "metadata": {},
   "outputs": [],
   "source": [
    "# LSTM\n",
    "l_train_accuracy = [0.73,0.88,0.94,0.96,0.97]\n",
    "l_val_accuracy = [0.79,0.77,0.73,0.73,0.72]\n",
    "l_train_loss = [0.54,0.30,0.17,0.11,0.08]\n",
    "l_val_loss = [0.47,0.50,0.61,0.76,1.0]\n",
    "\n",
    "ep = [1,2,3,4,5]\n",
    "dict1 = {'epoch': ep, 'tr_loss': l_train_loss, 'tr_score': l_train_accuracy,\n",
    "         'val_loss': l_val_loss, 'val_score': l_val_accuracy} \n",
    "df_lstm = pd.DataFrame(dict1)\n",
    "\n",
    "# GRU\n",
    "g_train_accuracy = [0.73,0.89,0.94,0.96,0.97]\n",
    "g_val_accuracy = [0.80,0.76,0.73,0.71,0.71]\n",
    "g_train_loss = [0.52,0.28,0.16,0.11,0.08]\n",
    "g_val_loss = [0.46,0.51,0.58,0.74,0.72]\n",
    "\n",
    "dict2 = {'epoch': ep, 'tr_loss': g_train_loss, 'tr_score': g_train_accuracy,\n",
    "         'val_loss': g_val_loss, 'val_score': g_val_accuracy} \n",
    "df_gru= pd.DataFrame(dict2)\n",
    "\n",
    "# LSTM + GRU\n",
    "j_train_accuracy = [0.58,0.58,0.58,0.58,0.58]\n",
    "j_val_accuracy = [0.53,0.53,0.53,0.53,0.53]\n",
    "j_train_loss = [0.68,0.68,0.68,0.68,0.68]\n",
    "j_val_loss = [0.69,0.69,0.69,0.69,0.69]\n",
    "\n",
    "dict3 = {'epoch': ep, 'tr_loss': j_train_loss, 'tr_score': j_train_accuracy,\n",
    "         'val_loss': j_val_loss, 'val_score': j_val_accuracy} \n",
    "df_joint = pd.DataFrame(dict3)"
   ]
  },
  {
   "cell_type": "code",
   "execution_count": 78,
   "id": "e07711ea",
   "metadata": {},
   "outputs": [
    {
     "data": {
      "image/png": "[encoded data removed]",
      "text/plain": [
       "<Figure size 432x288 with 1 Axes>"
      ]
     },
     "metadata": {
      "needs_background": "light"
     },
     "output_type": "display_data"
    },
    {
     "data": {
      "image/png": "[encoded data removed]",
      "text/plain": [
       "<Figure size 432x288 with 1 Axes>"
      ]
     },
     "metadata": {
      "needs_background": "light"
     },
     "output_type": "display_data"
    },
    {
     "data": {
      "image/png": "[encoded data removed]",
      "text/plain": [
       "<Figure size 432x288 with 1 Axes>"
      ]
     },
     "metadata": {
      "needs_background": "light"
     },
     "output_type": "display_data"
    }
   ],
   "source": [
    "# LSTM\n",
    "plt.plot(ep , l_train_accuracy)\n",
    "plt.plot(ep , l_val_accuracy)\n",
    "plt.title(\"LSTM\")\n",
    "plt.xlabel(\"epoch\")\n",
    "plt.ylabel(\"Score\")\n",
    "plt.legend(['train', 'validation'])\n",
    "plt.show()\n",
    "\n",
    "# GRU\n",
    "plt.plot(ep , g_train_accuracy)\n",
    "plt.plot(ep , g_val_accuracy)\n",
    "plt.title(\"GRU\")\n",
    "plt.xlabel(\"epoch\")\n",
    "plt.ylabel(\"Score\")\n",
    "plt.legend(['train', 'validation'])\n",
    "plt.show()\n",
    "\n",
    "# LSTM + GRU\n",
    "plt.plot(ep , j_train_accuracy)\n",
    "plt.plot(ep , j_val_accuracy)\n",
    "plt.title(\"LSTM & GRU\")\n",
    "plt.xlabel(\"epoch\")\n",
    "plt.ylabel(\"Score\")\n",
    "plt.legend(['train', 'validation'])\n",
    "plt.show()"
   ]
  },
  {
   "cell_type": "markdown",
   "id": "4c54ed5d",
   "metadata": {},
   "source": [
    "**Optimizer Comparison**"
   ]
  },
  {
   "cell_type": "code",
   "execution_count": 83,
   "id": "6a384271",
   "metadata": {},
   "outputs": [],
   "source": [
    "# Adam\n",
    "a_train_accuracy = [0.73,0.89,0.94,0.96,0.97]\n",
    "a_val_accuracy = [0.78,0.78,0.76,0.75,0.73]\n",
    "a_train_loss = [0.53,0.29,0.17,0.11,0.08]\n",
    "a_val_loss = [0.48,0.50,0.59,0.83,0.86]\n",
    "\n",
    "dict1 = {'epoch': ep, 'tr_loss': a_train_loss, 'tr_score': a_train_accuracy,\n",
    "         'val_loss': a_val_loss, 'val_score': a_val_accuracy} \n",
    "df_adam= pd.DataFrame(dict1)\n",
    "\n",
    "# RMSprop\n",
    "rms_train_accuracy = [0.73,0.85,0.88,0.91,0.93]\n",
    "rms_val_accuracy = [0.78,0.78,0.78,0.77,0.75]\n",
    "rms_train_loss = [0.53,0.36,0.31,0.25,0.21]\n",
    "rms_val_loss = [0.47,0.46,0.49,0.49,0.58]\n",
    "\n",
    "dict2 = {'epoch': ep, 'tr_loss': rms_train_loss, 'tr_score': rms_train_accuracy,\n",
    "         'val_loss': rms_val_loss, 'val_score': rms_val_accuracy} \n",
    "df_prop = pd.DataFrame(dict2)\n",
    "\n",
    "# Adagrad\n",
    "agrad_train_accuracy = [0.58,0.58,0.58,0.58,0.58]\n",
    "agrad_val_accuracy = [0.53,0.53,0.53,0.53,0.53]\n",
    "agrad_train_loss = [0.69,0.69,0.68,0.68,0.68]\n",
    "agrad_val_loss = [0.69,0.69,0.69,0.69,0.69]\n",
    "\n",
    "dict3 = {'epoch': ep, 'tr_loss': agrad_train_loss, 'tr_score': agrad_train_accuracy,\n",
    "         'val_loss': agrad_val_loss, 'val_score': agrad_val_accuracy} \n",
    "df_agrad = pd.DataFrame(dict3)\n",
    "\n",
    "# Adadelta\n",
    "ad_train_accuracy = [0.53,0.55,0.57,0.57,0.58]\n",
    "ad_val_accuracy = [0.53,0.53,0.53,0.53,0.53]\n",
    "ad_train_loss = [0.69,0.69,0.69,0.69,0.69]\n",
    "ad_val_loss = [0.69,0.69,0.69,0.69,0.69]\n",
    "\n",
    "dict4 = {'epoch': ep, 'tr_loss': ad_train_loss, 'tr_score': ad_train_accuracy,\n",
    "         'val_loss': ad_val_loss, 'val_score': ad_val_accuracy} \n",
    "df_ad = pd.DataFrame(dict4)"
   ]
  },
  {
   "cell_type": "code",
   "execution_count": 84,
   "id": "082ce7cd",
   "metadata": {},
   "outputs": [
    {
     "data": {
      "image/png": "[encoded data removed]",
      "text/plain": [
       "<Figure size 432x288 with 1 Axes>"
      ]
     },
     "metadata": {
      "needs_background": "light"
     },
     "output_type": "display_data"
    },
    {
     "data": {
      "image/png": "[encoded data removed]",
      "text/plain": [
       "<Figure size 432x288 with 1 Axes>"
      ]
     },
     "metadata": {
      "needs_background": "light"
     },
     "output_type": "display_data"
    },
    {
     "data": {
      "image/png": "[encoded data removed]",
      "text/plain": [
       "<Figure size 432x288 with 1 Axes>"
      ]
     },
     "metadata": {
      "needs_background": "light"
     },
     "output_type": "display_data"
    },
    {
     "data": {
      "image/png": "[encoded data removed]",
      "text/plain": [
       "<Figure size 432x288 with 1 Axes>"
      ]
     },
     "metadata": {
      "needs_background": "light"
     },
     "output_type": "display_data"
    }
   ],
   "source": [
    "# Adam\n",
    "plt.plot(ep , a_train_accuracy)\n",
    "plt.plot(ep , a_val_accuracy)\n",
    "plt.title(\"Adam\")\n",
    "plt.xlabel(\"epoch\")\n",
    "plt.ylabel(\"Score\")\n",
    "plt.legend(['train', 'validation'])\n",
    "plt.show()\n",
    "\n",
    "# RMSprop\n",
    "plt.plot(ep , rms_train_accuracy)\n",
    "plt.plot(ep , rms_val_accuracy)\n",
    "plt.title(\"RMSprop\")\n",
    "plt.xlabel(\"epoch\")\n",
    "plt.ylabel(\"Score\")\n",
    "plt.legend(['train', 'validation'])\n",
    "plt.show()\n",
    "\n",
    "# Adagrad\n",
    "plt.plot(ep , agrad_train_accuracy)\n",
    "plt.plot(ep , agrad_val_accuracy)\n",
    "plt.title(\"Adagrad\")\n",
    "plt.xlabel(\"epoch\")\n",
    "plt.ylabel(\"Score\")\n",
    "plt.legend(['train', 'validation'])\n",
    "plt.show()\n",
    "\n",
    "# Adadelta\n",
    "plt.plot(ep , ad_train_accuracy)\n",
    "plt.plot(ep , ad_val_accuracy)\n",
    "plt.title(\"Adadelta\")\n",
    "plt.xlabel(\"epoch\")\n",
    "plt.ylabel(\"Score\")\n",
    "plt.legend(['train', 'validation'])\n",
    "plt.show()"
   ]
  },
  {
   "cell_type": "markdown",
   "id": "48ccf7a8",
   "metadata": {},
   "source": [
    "**Learning Rate Comparison**"
   ]
  },
  {
   "cell_type": "code",
   "execution_count": 81,
   "id": "233f3865",
   "metadata": {},
   "outputs": [],
   "source": [
    "# lr 0.005\n",
    "train_accuracy_5 = [0.73,0.85,0.88,0.91,0.93]\n",
    "val_accuracy_5 = [0.78,0.79,0.77,0.76,0.68]\n",
    "train_loss_5 = [0.53,0.36,0.30,0.25,0.2]\n",
    "val_loss_5 = [0.48,0.47,0.49,0.52,0.67]\n",
    "\n",
    "ep = [1,2,3,4,5]\n",
    "dict1 = {'epoch': ep, 'tr_loss': train_loss_5, 'tr_score': train_accuracy_5,\n",
    "         'val_loss': val_loss_5, 'val_score': val_accuracy_5} \n",
    "df_5 = pd.DataFrame(dict1)\n",
    "\n",
    "# lr 0.008\n",
    "train_accuracy_8 = [0.74,0.85,0.88,0.91,0.93]\n",
    "val_accuracy_8 = [0.8,0.79,0.77,0.76,0.71]\n",
    "train_loss_8 = [0.53,0.36,0.3,0.25,0.2]\n",
    "val_loss_8 = [0.47,0.47,0.49,0.52,0.58]\n",
    "\n",
    "dict2 = {'epoch': ep, 'tr_loss': train_loss_8, 'tr_score': train_accuracy_8,\n",
    "         'val_loss': val_loss_8, 'val_score': val_accuracy_8} \n",
    "df_8 = pd.DataFrame(dict2)\n",
    "\n",
    "# lr 0.003\n",
    "train_accuracy_3 = [0.73,0.85,0.88,0.9,0.92]\n",
    "val_accuracy_3 = [0.78,0.79,0.77,0.75,0.72]\n",
    "train_loss_3 = [0.54,0.36,0.31,0.27,0.22]\n",
    "val_loss_3 = [0.48,0.48,0.47,0.54,0.56]\n",
    "\n",
    "dict3 = {'epoch': ep, 'tr_loss': train_loss_3, 'tr_score': train_accuracy_3,\n",
    "         'val_loss': val_loss_3, 'val_score': val_accuracy_3} \n",
    "df_3 = pd.DataFrame(dict3)"
   ]
  },
  {
   "cell_type": "code",
   "execution_count": 82,
   "id": "5062d307",
   "metadata": {},
   "outputs": [
    {
     "data": {
      "image/png": "[encoded data removed]",
      "text/plain": [
       "<Figure size 432x288 with 1 Axes>"
      ]
     },
     "metadata": {
      "needs_background": "light"
     },
     "output_type": "display_data"
    },
    {
     "data": {
      "image/png": "[encoded data removed]",
      "text/plain": [
       "<Figure size 432x288 with 1 Axes>"
      ]
     },
     "metadata": {
      "needs_background": "light"
     },
     "output_type": "display_data"
    },
    {
     "data": {
      "image/png": "[encoded data removed]",
      "text/plain": [
       "<Figure size 432x288 with 1 Axes>"
      ]
     },
     "metadata": {
      "needs_background": "light"
     },
     "output_type": "display_data"
    }
   ],
   "source": [
    "# learning rate 0.005\n",
    "plt.plot(ep , train_accuracy_5)\n",
    "plt.plot(ep , val_accuracy_5)\n",
    "plt.title(\"LR 0.005\")\n",
    "plt.xlabel(\"epoch\")\n",
    "plt.ylabel(\"Score\")\n",
    "plt.legend(['train', 'validation'])\n",
    "plt.show()\n",
    "\n",
    "# learning rate 0.008\n",
    "plt.plot(ep , train_accuracy_8)\n",
    "plt.plot(ep , val_accuracy_8)\n",
    "plt.title(\"LR 0.008\")\n",
    "plt.xlabel(\"epoch\")\n",
    "plt.ylabel(\"Score\")\n",
    "plt.legend(['train', 'validation'])\n",
    "plt.show()\n",
    "\n",
    "# learning rate 0.003\n",
    "plt.plot(ep , train_accuracy_3)\n",
    "plt.plot(ep , val_accuracy_3)\n",
    "plt.title(\"LR 0.003\")\n",
    "plt.xlabel(\"epoch\")\n",
    "plt.ylabel(\"Score\")\n",
    "plt.legend(['train', 'validation'])\n",
    "plt.show()"
   ]
  },
  {
   "cell_type": "markdown",
   "id": "0bab537b",
   "metadata": {},
   "source": [
    "**Analysis**"
   ]
  },
  {
   "cell_type": "markdown",
   "id": "3823ce20",
   "metadata": {},
   "source": [
    "As the graph suggests that the LSTM and GRU are performing quite the same with a slight average better result shown by LSTM. The joint model between the two is somewhat straigt line between the accuracies of the train and validation. The reason for this is that GRU constitutes 2 gates while LSTM constitutes 3 gates so a combination between the two makes it an incorrect model to begin with. However, it was done to merely test the result with a combination of the two.\n",
    "\n",
    "The optimizer graphs suggests that the Adam and RMSprop seems to be performing quite close to each other whereas the latter two seem to be quite bad. The reason for this is the ability for the Adam and RMSprop to tackle for more variables such as momentum, bias etc. We selected the RMSprop as the optimizer for our final model since it was giving us the best average result as compared to Adam optimizer.\n",
    "\n",
    "The variation in the learning rates seems to suggest the 0.005 learning is sufficient enough to catter for the model most effectively.\n",
    "\n",
    "The structure for our final model after summing up the above results comes out to be as follows:\n",
    "\n",
    "1. Initial layer with embedding, input set at 23(longest tweet) and 100 hidden units with bidirectional using LSTM and drop out rate set at 0.2.\n",
    "2. The second layer was taken as Dense layer with activation Relu.\n",
    "3. The output layer was also taken as Dense but with the activation set to Sigmoid."
   ]
  },
  {
   "cell_type": "markdown",
   "id": "896e2600",
   "metadata": {},
   "source": [
    "## Kaggle Submission"
   ]
  },
  {
   "cell_type": "code",
   "execution_count": 88,
   "id": "d37b80a8",
   "metadata": {},
   "outputs": [],
   "source": [
    "pred = model_f.predict(test_pad)\n",
    "temp = pd.read_csv(\"sample_submission.csv\")\n",
    "temp[\"target\"] = pred\n",
    "temp[\"target\"] = temp[\"target\"].apply(lambda x : 0 if x<=.5 else 1)\n",
    "sub.to_csv(\"final_submit_kaggle.csv\", index=False)"
   ]
  },
  {
   "cell_type": "markdown",
   "id": "cbea1ae9",
   "metadata": {},
   "source": [
    "## Conclusion"
   ]
  },
  {
   "cell_type": "markdown",
   "id": "5bc1c32d",
   "metadata": {},
   "source": [
    "The RNN is quite an effective technique in text classification with the simple model we designed doing substantially well. The most important takeaway from the project is that the selection of the right parameters and hyperparamters can vary the output quite a lot. It can be understood from the example the selection of the optimizer where some optimizers produced quite poor results. Another important takeaway was the need to convert the data to sequencing with the padding to be able to add it into the the model. The bidirectional gates was also a major understanding in the sense to use GRU was simpler and smaller dataset and LSTM for larger and complex data since it allows more tweaking. The model may be further improved even by testing complex architectures with additional layers or tweaking the current ones even."
   ]
  },
  {
   "cell_type": "code",
   "execution_count": null,
   "id": "7d222ed7",
   "metadata": {},
   "outputs": [],
   "source": []
  }
 ],
 "metadata": {
  "kernelspec": {
   "display_name": "Python 3 (ipykernel)",
   "language": "python",
   "name": "python3"
  },
  "language_info": {
   "codemirror_mode": {
    "name": "ipython",
    "version": 3
   },
   "file_extension": ".py",
   "mimetype": "text/x-python",
   "name": "python",
   "nbconvert_exporter": "python",
   "pygments_lexer": "ipython3",
   "version": "3.9.7"
  }
 },
 "nbformat": 4,
 "nbformat_minor": 5
}
